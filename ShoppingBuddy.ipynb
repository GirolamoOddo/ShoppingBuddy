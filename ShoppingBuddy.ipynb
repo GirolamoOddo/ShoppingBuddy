{
  "cells": [
    {
      "cell_type": "markdown",
      "metadata": {
        "id": "view-in-github",
        "colab_type": "text"
      },
      "source": [
        "<a href=\"https://colab.research.google.com/github/GirolamoOddo/ShoppingBuddy/blob/main/ShoppingBuddy.ipynb\" target=\"_parent\"><img src=\"https://colab.research.google.com/assets/colab-badge.svg\" alt=\"Open In Colab\"/></a>"
      ]
    },
    {
      "cell_type": "markdown",
      "source": [
        "## __Set Environment__ (may take time)"
      ],
      "metadata": {
        "id": "aFMqXKH1z_JM"
      }
    },
    {
      "cell_type": "markdown",
      "source": [
        "\n",
        "\n",
        "---\n",
        "\n"
      ],
      "metadata": {
        "id": "5FIXgYvLQ7pR"
      }
    },
    {
      "cell_type": "code",
      "source": [
        "# @title Set environment [dev]\n",
        "!git clone https://github.com/GirolamoOddo/ShoppingBuddy.git\n",
        "!cp ./ShoppingBuddy/SBrequirements.txt ./\n",
        "\n",
        "!python3 --version # 3.10.12\n",
        "!pip install virtualenv\n",
        "!virtualenv  ShoppingBuddyEnv\n",
        "!source /content/ShoppingBuddyEnv/bin/activate; pip3 install -r SBrequirements.txt\n",
        "!source /content/ShoppingBuddyEnv/bin/activate; pip3 list\n",
        "\n",
        "import sys\n",
        "sys.path.append(\"ShoppingBuddyEnv/lib/python3.10/site-packages\")\n",
        "print(\"Python is running from:\", sys.prefix)\n"
      ],
      "metadata": {
        "id": "yS_EWOUAi-bk",
        "cellView": "form"
      },
      "execution_count": null,
      "outputs": []
    },
    {
      "cell_type": "code",
      "source": [
        "# @title Import packages [dev]\n",
        "\n",
        "import requests\n",
        "from bs4 import BeautifulSoup\n",
        "import torch\n",
        "import torchvision.transforms as transforms\n",
        "from PIL import Image, ImageEnhance\n",
        "from io import BytesIO\n",
        "import numpy as np\n",
        "import matplotlib.pyplot as plt\n",
        "from IPython.display import display, clear_output\n",
        "import ipywidgets as widgets\n",
        "import os\n",
        "import zipfile\n",
        "\n",
        "from torch.utils.data import Dataset, DataLoader\n",
        "import torch.nn as nn\n",
        "import torch.optim as optim\n",
        "from torchvision import models\n",
        "from torchvision.models import ResNet50_Weights\n",
        "from googletrans import Translator"
      ],
      "metadata": {
        "cellView": "form",
        "id": "z_uQlhnsbWzh"
      },
      "execution_count": null,
      "outputs": []
    },
    {
      "cell_type": "code",
      "source": [
        "# @title Code block [dev]\n",
        "\n",
        "# Initialize the translator\n",
        "translator = Translator()\n",
        "\n",
        "# Utility web-scraping & image processing functions\n",
        "\n",
        "def fetch_product_data(urls):\n",
        "    \"\"\"Fetch product data from a list of URLs and return a combined list of product dictionaries.\"\"\"\n",
        "    products = []\n",
        "    for url in urls:\n",
        "        segments = url.split('/')\n",
        "        site_lang = segments[4]\n",
        "        print(f\"Collecting items from: {url}\")\n",
        "\n",
        "        response = requests.get(url)\n",
        "        html_content = response.text\n",
        "        soup = BeautifulSoup(html_content, 'html.parser')\n",
        "\n",
        "        # Info: in order to find the information like: ProductImage_imageWrapper__dcoT9 for other web-site\n",
        "        # open Chrome go to the website you would like to take items, press right button on the main page and\n",
        "        # use the inspect feature, then go to 'Network' page, reload the website and check if there is a document\n",
        "        # there you have to find the pattern that the site use to call the product images.\n",
        "        product_wrappers = soup.find_all('div', class_='ProductImage_imageWrapper__dcoT9')\n",
        "        for wrapper in product_wrappers:\n",
        "            img_tag = wrapper.find('img')\n",
        "            if img_tag:\n",
        "                description = img_tag.get('alt')\n",
        "                img_url = img_tag.get('src')\n",
        "                translated_description = translator.translate(description, src=site_lang, dest='en').text\n",
        "\n",
        "                ## this is a Mango web site specific detail to grab only -without model images-\n",
        "                if 'without model' in translated_description.lower():\n",
        "                    products.append({'description': translated_description.lower(), 'image_url': img_url})\n",
        "    return products\n",
        "\n",
        "def preprocess_image(image_url):\n",
        "    \"\"\"Fetch and preprocess an image from a URL.\"\"\"\n",
        "    response = requests.get(image_url)\n",
        "    img = Image.open(BytesIO(response.content)).convert('L')  # Convert to grayscale\n",
        "    # Increase contrast & sharpness\n",
        "    enhancer = ImageEnhance.Contrast(img)\n",
        "    img = enhancer.enhance(1.1)\n",
        "    enhancer = ImageEnhance.Sharpness(img)\n",
        "    img = enhancer.enhance(1.1)\n",
        "\n",
        "    transform = transforms.Compose([\n",
        "        transforms.Resize((224, 224)),\n",
        "        transforms.ToTensor(),\n",
        "    ])\n",
        "    img_tensor = transform(img)\n",
        "    return img_tensor\n",
        "\n",
        "def analyze_fit_rate_distribution(root_dir='labeled_dataset'):\n",
        "    \"\"\"Analyze the distribution of fit rates in the labeled dataset.\"\"\"\n",
        "    fit_rates = []\n",
        "\n",
        "    # Collect fit rates from labeled dataset\n",
        "    for fit_rate_dir in os.listdir(root_dir):\n",
        "        fit_rate_path = os.path.join(root_dir, fit_rate_dir)\n",
        "        if os.path.isdir(fit_rate_path):\n",
        "            fit_rate = float(fit_rate_dir)\n",
        "            fit_rates.extend([fit_rate] * len(os.listdir(fit_rate_path)))\n",
        "\n",
        "    if not fit_rates:\n",
        "        print(\"No fit rates found in the dataset.\")\n",
        "        return\n",
        "\n",
        "    # Convert fit rates to numpy array for statistical operations\n",
        "    fit_rates = np.array(fit_rates)\n",
        "\n",
        "    mean_fit_rate = np.mean(fit_rates)\n",
        "    std_fit_rate = np.std(fit_rates)\n",
        "    min_fit_rate = np.min(fit_rates)\n",
        "    max_fit_rate = np.max(fit_rates)\n",
        "\n",
        "    print(f\"Mean Fit Rate: {mean_fit_rate:.2f}\")\n",
        "    print(f\"Standard Deviation of Fit Rate: {std_fit_rate:.2f}\")\n",
        "    print(f\"Minimum Fit Rate: {min_fit_rate:.2f}\")\n",
        "    print(f\"Maximum Fit Rate: {max_fit_rate:.2f}\")\n",
        "\n",
        "    # Assess if distribution is far from uniform\n",
        "    if std_fit_rate > 0.35 and 0.45 <= mean_fit_rate <= 0.65:\n",
        "        print(\"Your training set distribution appears relatively uniform.\")\n",
        "    else:\n",
        "        print(\"Your training set distribution is far from uniform, so your model may presents biases.\")\n",
        "\n",
        "# Function to build the dataset\n",
        "def build_dataset(urls):\n",
        "\n",
        "    def show_image(image, title):\n",
        "        \"\"\"Display an image.\"\"\"\n",
        "        img = np.transpose(image.numpy(), (1, 2, 0))  # Convert to (H, W, C) for display\n",
        "        plt.imshow(img, cmap='gray')  # Display in grayscale\n",
        "        plt.title(title)\n",
        "        plt.axis('off')\n",
        "        plt.show()\n",
        "\n",
        "    def create_labeled_dataset(products):\n",
        "        \"\"\"Create a labeled dataset from product images and save them in categorized folders based on fit rate.\"\"\"\n",
        "        base_dir = 'labeled_dataset'\n",
        "        fit_rate_dirs = [f\"{i/10:.1f}\" for i in range(11)]\n",
        "        if not os.path.exists(base_dir):\n",
        "            os.makedirs(base_dir)\n",
        "        for rate_dir in fit_rate_dirs:\n",
        "            os.makedirs(os.path.join(base_dir, rate_dir), exist_ok=True)\n",
        "        labeled_data = []\n",
        "        def label_image(description, image_url):\n",
        "            \"\"\"Helper function to label an image and save it in the appropriate folder.\"\"\"\n",
        "            image = preprocess_image(image_url)\n",
        "            show_image(image, description)\n",
        "            fit_rate_widget = widgets.FloatSlider(\n",
        "                value=0.5,\n",
        "                min=0.0,\n",
        "                max=1.0,\n",
        "                step=0.1,\n",
        "                description='Fit Rate:',\n",
        "                continuous_update=False\n",
        "            )\n",
        "            def on_submit(change):\n",
        "                fit_rate = round(fit_rate_widget.value, 1)\n",
        "                fit_rate_dir = f\"{fit_rate:.1f}\"\n",
        "                img_pil = transforms.ToPILImage()(image)\n",
        "                safe_description = description.replace('/', '_').replace('\\\\', '_')\n",
        "                image_path = os.path.join(base_dir, fit_rate_dir, f\"{safe_description}.png\")\n",
        "                img_pil.save(image_path, format='PNG')\n",
        "                labeled_data.append({\n",
        "                    'description': description,\n",
        "                    'image_path': image_path,\n",
        "                    'fit_rate': fit_rate,\n",
        "                    'image_url': image_url\n",
        "                })\n",
        "                clear_output(wait=True)\n",
        "                if len(labeled_data) < len(products):\n",
        "                    display_next_image()\n",
        "                else:\n",
        "                    print(\"All images labeled.\")\n",
        "                    clear_output(wait=True)\n",
        "                    zip_file_path = 'labeled_dataset.zip'\n",
        "                    with zipfile.ZipFile(zip_file_path, 'w') as zipf:\n",
        "                        for root, dirs, files in os.walk(base_dir):\n",
        "                            for file in files:\n",
        "                                file_path = os.path.join(root, file)\n",
        "                                zipf.write(file_path, os.path.relpath(file_path, base_dir))\n",
        "                    print(\"Labeled dataset folder zipped and ready for download.\")\n",
        "                    from google.colab import files\n",
        "                    files.download(zip_file_path)\n",
        "            display(fit_rate_widget)\n",
        "            fit_rate_widget.observe(on_submit, names='value')\n",
        "\n",
        "        def display_next_image():\n",
        "            \"\"\"Display the next image and prompt for labeling.\"\"\"\n",
        "            if len(labeled_data) < len(products):\n",
        "                product = products[len(labeled_data)]\n",
        "                label_image(product['description'], product['image_url'])\n",
        "        display_next_image()\n",
        "\n",
        "    # URLs for fetching product data\n",
        "    products = fetch_product_data(urls)\n",
        "    create_labeled_dataset(products)\n",
        "\n",
        "# Function to train the model\n",
        "def train_model():\n",
        "    class ProductDataset(Dataset):\n",
        "        def __init__(self, root_dir, transform=None):\n",
        "            self.root_dir = root_dir\n",
        "            self.transform = transform\n",
        "            self.data = self._load_data()\n",
        "\n",
        "        def _load_data(self):\n",
        "            data = []\n",
        "            for fit_rate_dir in os.listdir(self.root_dir):\n",
        "                fit_rate_path = os.path.join(self.root_dir, fit_rate_dir)\n",
        "                if os.path.isdir(fit_rate_path):\n",
        "                    fit_rate = float(fit_rate_dir)\n",
        "                    for img_name in os.listdir(fit_rate_path):\n",
        "                        img_path = os.path.join(fit_rate_path, img_name)\n",
        "                        if img_name.endswith(('.png', '.jpg', '.jpeg')):\n",
        "                            data.append((img_path, fit_rate))\n",
        "            return data\n",
        "\n",
        "        def __len__(self):\n",
        "            return len(self.data)\n",
        "\n",
        "        def __getitem__(self, idx):\n",
        "            img_path, fit_rate = self.data[idx]\n",
        "            image = Image.open(img_path).convert('L')  # Convert to grayscale\n",
        "            if self.transform:\n",
        "                image = self.transform(image)\n",
        "            return image, fit_rate\n",
        "\n",
        "    transform = transforms.Compose([\n",
        "        transforms.Resize((224, 224)),\n",
        "        transforms.ToTensor(),\n",
        "    ])\n",
        "\n",
        "    train_dataset = ProductDataset('labeled_dataset', transform=transform)\n",
        "    train_loader = DataLoader(train_dataset, batch_size=32, shuffle=True)\n",
        "\n",
        "    resnet50 = models.resnet50(weights=ResNet50_Weights.IMAGENET1K_V1)\n",
        "    num_ftrs = resnet50.fc.in_features\n",
        "\n",
        "    # Modify the first convolutional layer to accept single-channel (grayscale) images\n",
        "    resnet50.conv1 = nn.Conv2d(1, 64, kernel_size=7, stride=2, padding=3, bias=False)\n",
        "\n",
        "    resnet50.fc = nn.Sequential(\n",
        "        nn.Linear(num_ftrs, 512),\n",
        "        nn.ReLU(),\n",
        "        nn.Dropout(0.5),\n",
        "        nn.Linear(512, 128),\n",
        "        nn.ReLU(),\n",
        "        nn.Dropout(0.5),\n",
        "        nn.Linear(128, 1),\n",
        "        nn.Sigmoid()\n",
        "    )\n",
        "\n",
        "    device = torch.device('cpu')  # Use 'cuda' if GPU is available\n",
        "    resnet50 = resnet50.to(device)\n",
        "    criterion = nn.MSELoss()\n",
        "    optimizer = optim.Adam(resnet50.parameters(), lr=0.001)\n",
        "\n",
        "    resnet50.train()\n",
        "    for epoch in range(5):\n",
        "        running_loss = 0.0\n",
        "        for inputs, labels in train_loader:\n",
        "            inputs, labels = inputs.to(device), labels.to(device)\n",
        "            optimizer.zero_grad()\n",
        "            outputs = resnet50(inputs)\n",
        "            loss = criterion(outputs.squeeze(), labels.float())\n",
        "            loss.backward()\n",
        "            optimizer.step()\n",
        "            running_loss += loss.item()\n",
        "        print(f\"Epoch {epoch+1}, Loss: {running_loss/len(train_loader)}\")\n",
        "\n",
        "    torch.save(resnet50.state_dict(), 'resnet50_fitrates.pth')\n",
        "\n",
        "# Function to use the model for predictions\n",
        "def use_model(urls, lang='en'):\n",
        "\n",
        "    def predict_fit_rate(model, products):\n",
        "        \"\"\"Predict the fit-rate for each product and return a ranked list of products with their links.\"\"\"\n",
        "        model.eval()\n",
        "        results = []\n",
        "        with torch.no_grad():\n",
        "            for product in products:\n",
        "                img_tensor = preprocess_image(product['image_url']).unsqueeze(0)  # Add batch dimension\n",
        "                fit_rate = model(img_tensor).item()\n",
        "                product['fit_rate'] = fit_rate\n",
        "                results.append(product)\n",
        "        results.sort(key=lambda x: x['fit_rate'], reverse=True)\n",
        "        return results\n",
        "\n",
        "    resnet50 = models.resnet50(weights=ResNet50_Weights.IMAGENET1K_V1)\n",
        "    num_ftrs = resnet50.fc.in_features\n",
        "\n",
        "    resnet50.conv1 = nn.Conv2d(1, 64, kernel_size=7, stride=2, padding=3, bias=False)\n",
        "\n",
        "    resnet50.fc = nn.Sequential(\n",
        "        nn.Linear(num_ftrs, 512),\n",
        "        nn.ReLU(),\n",
        "        nn.Dropout(0.5),\n",
        "        nn.Linear(512, 128),\n",
        "        nn.ReLU(),\n",
        "        nn.Dropout(0.5),\n",
        "        nn.Linear(128, 1),\n",
        "        nn.Sigmoid()\n",
        "    )\n",
        "    resnet50.load_state_dict(torch.load('resnet50_fitrates.pth'))\n",
        "    resnet50.eval()\n",
        "\n",
        "    products = fetch_product_data(urls)\n",
        "    ranked_products = predict_fit_rate(resnet50, products)\n",
        "\n",
        "    for product in ranked_products:\n",
        "        translated_description = translator.translate(product['description'], src='en', dest=lang).text.lower() if lang != 'en' else product['description']\n",
        "\n",
        "        # Set column widths for better alignment\n",
        "        description_col_width = 60\n",
        "        fit_rate_col_width    = 10\n",
        "        link_col_width        = 70\n",
        "\n",
        "        truncated_description = (translated_description[:description_col_width - 3] + '...') if len(translated_description) > description_col_width else translated_description\n",
        "\n",
        "        # Print the formatted output with fixed-width columns\n",
        "        print(f\"Description: {truncated_description:<{description_col_width}} \"\n",
        "              f\"Fit-Rate: {np.round(product['fit_rate'], 2):<{fit_rate_col_width}} \"\n",
        "              f\"Link: {product['image_url']:<{link_col_width}}\")\n"
      ],
      "metadata": {
        "cellView": "form",
        "id": "0sZxzqDMeJ-8"
      },
      "execution_count": null,
      "outputs": []
    },
    {
      "cell_type": "markdown",
      "source": [
        "## __User Pipeline__"
      ],
      "metadata": {
        "id": "YaIIzNsJO5lD"
      }
    },
    {
      "cell_type": "markdown",
      "source": [
        "\n",
        "\n",
        "---\n",
        "\n"
      ],
      "metadata": {
        "id": "IQ6-Dz3hQ5Yf"
      }
    },
    {
      "cell_type": "markdown",
      "source": [
        "## __1) Build your dataset__\n",
        "Here you heve only to select the items based on your tastes from the slider under the image.  \n",
        "To start the process run the code cell below.  \n",
        "\n",
        "After the process the dataset will be saved in your machine, store it properly.\n",
        "\n",
        "![image.png](data:image/png;base64,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)"
      ],
      "metadata": {
        "id": "YqiTGlPrPH3E"
      }
    },
    {
      "cell_type": "code",
      "source": [
        "# @title 1. Build your dataset [code]\n",
        "\n",
        "# Usage:\n",
        "# 1. Build dataset (this take time):\n",
        "url_1 = 'https://www.mangooutlet.com/it/it/c/donna/bluse-e-camicie_b8003173?range=2.00-100.00'\n",
        "url_2 = 'https://www.mangooutlet.com/it/it/c/donna/pantaloni_bf28b3b?range=2.00-100.00'\n",
        "url_3 = 'https://www.mangooutlet.com/it/it/c/donna/gonne_a1a0d939?range=2.00-100.00'\n",
        "url_4 = 'https://www.mangooutlet.com/it/it/c/donna/jeans_bda1aa43?range=2.00-100.00'\n",
        "url_5 = 'https://www.mangooutlet.com/it/it/c/donna/cappotti_d1b967bc?range=24.00-200.00'\n",
        "url_6 = 'https://www.mangooutlet.com/it/it/c/donna/giacche_5ef3ad3b?range=5.00-100.00'\n",
        "\n",
        "train_urls = [url_1, url_2, url_3, url_4, url_5, url_6]\n",
        "build_dataset(train_urls)\n"
      ],
      "metadata": {
        "id": "Ok64sugQdyOE",
        "cellView": "form"
      },
      "execution_count": null,
      "outputs": []
    },
    {
      "cell_type": "markdown",
      "source": [
        "\n",
        "--\n",
        "\n"
      ],
      "metadata": {
        "id": "r8epZ7XiQ3Ux"
      }
    },
    {
      "cell_type": "markdown",
      "source": [
        "## __2) Train the model__\n",
        "\n",
        "Now you have to train the model with your taste, so run the cell below to start the training.\n",
        "\n",
        "After the training the model will be saved in your machine, store it properly.\n"
      ],
      "metadata": {
        "id": "AAtaQUYyQEdK"
      }
    },
    {
      "cell_type": "code",
      "source": [
        "# @title 2. Train the model [code]\n",
        "# 2. Train the model:\n",
        "# be sure to have the labeled_dataset folder and the\n",
        "# resnet50_fitrates.pth trained torch model in the working dir\n",
        "analyze_fit_rate_distribution()\n",
        "train_model()\n",
        "\n",
        "from google.colab import files\n",
        "files.download('resnet50_fitrates.pth')\n"
      ],
      "metadata": {
        "colab": {
          "base_uri": "https://localhost:8080/"
        },
        "id": "k_pkOb6kqUBy",
        "outputId": "7ea956f9-b91d-4481-e446-be56edc11d40",
        "cellView": "form"
      },
      "execution_count": null,
      "outputs": [
        {
          "output_type": "stream",
          "name": "stdout",
          "text": [
            "Mean Fit Rate: 0.21\n",
            "Standard Deviation of Fit Rate: 0.20\n",
            "Minimum Fit Rate: 0.00\n",
            "Maximum Fit Rate: 0.70\n",
            "Your training set distribution is far from uniform, so your model may presents biases.\n",
            "Epoch 1, Loss: 0.08481468912214041\n",
            "Epoch 2, Loss: 0.03475695475935936\n",
            "Epoch 3, Loss: 0.053469701670110226\n",
            "Epoch 4, Loss: 0.03249920625239611\n",
            "Epoch 5, Loss: 0.040558069944381714\n"
          ]
        }
      ]
    },
    {
      "cell_type": "markdown",
      "source": [
        "--"
      ],
      "metadata": {
        "id": "cqek9cPIRphw"
      }
    },
    {
      "cell_type": "markdown",
      "source": [
        "## 3) __Use the model__    \n",
        "\n",
        "Now go to Mango or Mango Outlet site, select the category of garments, and apply the filters you prefer and copy the link in the box below and run.   \n",
        "\n",
        "Please before running the cell below be sure to have the model in your working directory (left menu, last icon, file: resnet50_fitrates.pth) if not please train a new model (step 1 and 2) or drag-&-drop a trained model in to the working dir.  \n"
      ],
      "metadata": {
        "id": "TyanrXcRRrYy"
      }
    },
    {
      "cell_type": "code",
      "source": [
        "# @title __3. Use the model__\n",
        "# 3. Use the model for predictions:\n",
        "# be sure to have the resnet50_fitrate.pth traine torch model in the working dir\n",
        "pred_urls = ['https://www.mangooutlet.com/it/it/c/donna/cappotti_d1b967bc']\n",
        "use_model(pred_urls, lang='en')\n"
      ],
      "metadata": {
        "colab": {
          "base_uri": "https://localhost:8080/"
        },
        "id": "gL6dMmepqXI_",
        "outputId": "6a5b548f-0702-4bf0-8b05-1bc5d52dab27"
      },
      "execution_count": null,
      "outputs": [
        {
          "output_type": "stream",
          "name": "stdout",
          "text": [
            "Collecting items from: https://www.mangooutlet.com/it/it/c/donna/cappotti_d1b967bc\n",
            "Description: padded down jacket with pockets - article without model      Fit-Rate: 0.03       Link: https://www.mangooutlet.com/assets/rcs/pics/static/T3/fotos/S/37034377_30_B.jpg?ts=1669138689479&im=SmartCrop,width=2048,height=2867.2&imdensity=1\n",
            "Description: long padded down jacket - item without model                 Fit-Rate: 0.01       Link: https://www.mangooutlet.com/assets/rcs/pics/static/T3/fotos/S/37005132_99_B.jpg?ts=1669291390906&im=SmartCrop,width=2048,height=2867.2&imdensity=1\n",
            "Description: double buttoned wool coat - article without model            Fit-Rate: 0.01       Link: https://www.mangooutlet.com/assets/rcs/pics/static/T5/fotos/S/57089114_91_B.jpg?ts=1696926774943&im=SmartCrop,width=2048,height=2867.2&imdensity=1\n",
            "Description: waterproof parka with internal down jacket - article with... Fit-Rate: 0.0        Link: https://www.mangooutlet.com/assets/rcs/pics/static/T3/fotos/S/37067715_09_B.jpg?ts=1663750449929&im=SmartCrop,width=2048,height=2867.2&imdensity=1\n",
            "Description: handmade fitted wool coat - item without model               Fit-Rate: 0.0        Link: https://www.mangooutlet.com/assets/rcs/pics/static/T3/fotos/S/37045131_35_B.jpg?ts=1660146891015&im=SmartCrop,width=2048,height=2867.2&imdensity=1\n",
            "Description: embossed fur coat - item without model                       Fit-Rate: 0.0        Link: https://www.mangooutlet.com/assets/rcs/pics/static/T3/fotos/S/37087712_70_B.jpg?ts=1661158546521&im=SmartCrop,width=2048,height=2867.2&imdensity=1\n",
            "Description: crossover coat with lapels - article without model           Fit-Rate: 0.0        Link: https://www.mangooutlet.com/assets/rcs/pics/static/T3/fotos/S/37079086_56_B.jpg?ts=1663070108978&im=SmartCrop,width=2048,height=2867.2&imdensity=1\n",
            "Description: short wool coat - item without model                         Fit-Rate: 0.0        Link: https://www.mangooutlet.com/assets/rcs/pics/static/T3/fotos/S/37055141_56_B.jpg?ts=1661446706150&im=SmartCrop,width=2048,height=2867.2&imdensity=1\n"
          ]
        }
      ]
    }
  ],
  "metadata": {
    "colab": {
      "provenance": [],
      "include_colab_link": true
    },
    "kernelspec": {
      "display_name": "Python 3",
      "name": "python3"
    },
    "language_info": {
      "name": "python"
    }
  },
  "nbformat": 4,
  "nbformat_minor": 0
}